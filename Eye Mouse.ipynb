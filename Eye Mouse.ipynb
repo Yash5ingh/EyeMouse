{
 "cells": [
  {
   "cell_type": "code",
   "execution_count": 354,
   "id": "32d5d65c",
   "metadata": {},
   "outputs": [],
   "source": [
    "import cv2\n",
    "import mediapipe as mp\n",
    "import pyautogui\n",
    "import numpy as np\n",
    "import matplotlib.pyplot as plt\n",
    "import tensorflow as tf\n",
    "from keras.models import Model\n",
    "import time\n",
    "from keras import Sequential,layers,optimizers,losses,activations\n",
    "import albumentations as A\n",
    "import matplotlib.pyplot as plt"
   ]
  },
  {
   "cell_type": "code",
   "execution_count": 332,
   "id": "a151c9dc",
   "metadata": {},
   "outputs": [],
   "source": [
    "x = []\n",
    "nx = []\n",
    "y = []"
   ]
  },
  {
   "cell_type": "code",
   "execution_count": 333,
   "id": "188f46ec",
   "metadata": {},
   "outputs": [],
   "source": [
    "screen_w, screen_h = pyautogui.size()\n",
    "\n",
    "inpimg = (90,50)"
   ]
  },
  {
   "cell_type": "code",
   "execution_count": 334,
   "id": "54333740",
   "metadata": {},
   "outputs": [
    {
     "name": "stdout",
     "output_type": "stream",
     "text": [
      "(156, 750, 524, 0.5509014129638672, 0.4434720277786255, -0.04066680744290352)              \n",
      "done\n"
     ]
    }
   ],
   "source": [
    "mouse_speed = 0.2\n",
    "sleep = 0.4\n",
    "\n",
    "cam = cv2.VideoCapture(0)\n",
    "face_mesh = mp.solutions.face_mesh.FaceMesh(refine_landmarks=True)\n",
    "pyautogui.hotkey('alt', 'tab')\n",
    "\n",
    "while True:\n",
    "\n",
    "    mx = np.random.randint(1,screen_w)\n",
    "    my = np.random.randint(1,screen_h)\n",
    "    \n",
    "    pyautogui.moveTo(mx,my,mouse_speed)\n",
    "    time.sleep(sleep)\n",
    "    \n",
    "    _, frame = cam.read()\n",
    "    frame = cv2.flip(frame, 1)\n",
    "    rgb_frame = cv2.cvtColor(frame, cv2.COLOR_BGR2RGB)\n",
    "    output = face_mesh.process(rgb_frame)\n",
    "    landmark_points = output.multi_face_landmarks\n",
    "    frame_h, frame_w, _ = frame.shape\n",
    "               \n",
    "    if landmark_points:\n",
    "        \n",
    "#         for landmark in [landmarks[159],landmarks[475]]:\n",
    "#             px = int(landmark.x * frame_w)\n",
    "#             py = int(landmark.y * frame_h)\n",
    "#             cv2.circle(frame, (px, py), 2, (255, 255, 255))\n",
    "            \n",
    "            \n",
    "        landmarks = landmark_points[0].landmark\n",
    "        \n",
    "        frame1_crop = frame[int(landmarks[257].y * frame_h):int(landmarks[253].y * frame_h), int(landmarks[362].x * frame_w):int(landmarks[359].x * frame_w)]\n",
    "        frame1_crop = cv2.resize(frame1_crop,(inpimg[0]//2,inpimg[1]//2))\n",
    "        frame1_crop = cv2.cvtColor(frame1_crop, cv2.COLOR_BGR2GRAY)\n",
    "        \n",
    "        frame2_crop = frame[int(landmarks[27].y * frame_h):int(landmarks[23].y * frame_h), int(landmarks[130].x * frame_w):int(landmarks[243].x * frame_w)]\n",
    "        frame2_crop = cv2.resize(frame2_crop,(inpimg[0]//2,inpimg[1]//2))\n",
    "        frame2_crop = cv2.cvtColor(frame2_crop, cv2.COLOR_BGR2GRAY)\n",
    "        \n",
    "        frame_crop = np.vstack((frame1_crop , frame2_crop))\n",
    "        frame_crop = np.hstack((frame_crop, cv2.resize(cv2.cvtColor(frame, cv2.COLOR_BGR2GRAY),(inpimg[0]//2,inpimg[1]))))\n",
    "        \n",
    "#         mx, my = pyautogui.position()\n",
    "        \n",
    "        x.append(frame_crop)\n",
    "        nx.append(np.array([landmarks[168].x,landmarks[168].y,landmarks[168].z]))\n",
    "        y.append(np.array([mx,my]))\n",
    "        \n",
    "        print(f\"\\r{len(x), mx,my , landmarks[168].x,landmarks[168].y,landmarks[168].z}           \", end=\"\")\n",
    "            \n",
    "    cv2.imshow('Eye_Tracker', frame_crop)\n",
    "    k = cv2.waitKey(1)\n",
    "    \n",
    "    if k == 27:\n",
    "        print(\"\\ndone\")\n",
    "        cv2.destroyAllWindows()\n",
    "        cam.release()\n",
    "        pyautogui.hotkey('alt', 'tab')\n",
    "        break"
   ]
  },
  {
   "cell_type": "code",
   "execution_count": null,
   "id": "3e2b320b",
   "metadata": {},
   "outputs": [],
   "source": []
  },
  {
   "cell_type": "code",
   "execution_count": 355,
   "id": "18a4b864",
   "metadata": {},
   "outputs": [],
   "source": [
    "cv2.destroyAllWindows()\n",
    "cam.release()"
   ]
  },
  {
   "cell_type": "code",
   "execution_count": 356,
   "id": "ad2868f0",
   "metadata": {},
   "outputs": [],
   "source": [
    "# x = x[:-10]\n",
    "# y = y[:-10]\n",
    "# nx = nx[:-10]"
   ]
  },
  {
   "cell_type": "code",
   "execution_count": 357,
   "id": "e67f48ef",
   "metadata": {},
   "outputs": [],
   "source": [
    "i = 0"
   ]
  },
  {
   "cell_type": "code",
   "execution_count": 358,
   "id": "ddcebc5f",
   "metadata": {},
   "outputs": [
    {
     "name": "stdout",
     "output_type": "stream",
     "text": [
      "0 [ 0.42745644  0.42010933 -0.02794687] [461 111]\n"
     ]
    },
    {
     "data": {
      "image/png": "[encoded data removed]",
      "text/plain": [
       "<Figure size 640x480 with 1 Axes>"
      ]
     },
     "metadata": {},
     "output_type": "display_data"
    }
   ],
   "source": [
    "plt.imshow(x[i],cmap=\"gray\")\n",
    "print(i,nx[i],y[i])\n",
    "i+=50"
   ]
  },
  {
   "cell_type": "code",
   "execution_count": 359,
   "id": "225b00cf",
   "metadata": {},
   "outputs": [],
   "source": [
    "dx = np.array(x)\n",
    "dnx = np.array(nx)\n",
    "dy = np.array(y)"
   ]
  },
  {
   "cell_type": "code",
   "execution_count": 360,
   "id": "19fc6437",
   "metadata": {},
   "outputs": [],
   "source": [
    "def random_brightness_contrast(image, alpha_range=(0.5, 1.5), beta_range=(-50, 50)):\n",
    "    alpha = np.random.uniform(alpha_range[0], alpha_range[1])\n",
    "    beta = np.random.uniform(beta_range[0], beta_range[1])\n",
    "    adjusted_image = cv2.convertScaleAbs(image, alpha=alpha, beta=beta)\n",
    "    return adjusted_image"
   ]
  },
  {
   "cell_type": "code",
   "execution_count": 361,
   "id": "29a0e543",
   "metadata": {},
   "outputs": [
    {
     "name": "stdout",
     "output_type": "stream",
     "text": [
      "155           "
     ]
    }
   ],
   "source": [
    "for curr,i in enumerate(dx):\n",
    "    print(f\"\\r{curr}           \",end=\"\")\n",
    "    for j in range(5):\n",
    "        dx = np.append(dx,[random_brightness_contrast(i)],axis=0)\n",
    "        dnx = np.append(dnx,[dnx[curr]],axis=0)\n",
    "        dy = np.append(dy,[dy[curr]],axis=0)"
   ]
  },
  {
   "cell_type": "code",
   "execution_count": 362,
   "id": "2d618622",
   "metadata": {},
   "outputs": [
    {
     "data": {
      "text/plain": [
       "((936, 50, 90), (936, 2))"
      ]
     },
     "execution_count": 362,
     "metadata": {},
     "output_type": "execute_result"
    }
   ],
   "source": [
    "dx.shape,dy.shape"
   ]
  },
  {
   "cell_type": "code",
   "execution_count": 363,
   "id": "5c5d2311",
   "metadata": {},
   "outputs": [],
   "source": [
    "dy = (dy/[screen_w, screen_h])\n",
    "dnx = (dnx/[frame_w,frame_h,-1])\n",
    "dx = dx/255"
   ]
  },
  {
   "cell_type": "code",
   "execution_count": null,
   "id": "9b604b0b",
   "metadata": {},
   "outputs": [],
   "source": []
  },
  {
   "cell_type": "code",
   "execution_count": 364,
   "id": "c1634b03",
   "metadata": {},
   "outputs": [],
   "source": [
    "p = np.random.permutation(dy.shape[0])\n",
    "dx = dx[p]\n",
    "dnx = dnx[p]\n",
    "dy = dy[p]"
   ]
  },
  {
   "cell_type": "code",
   "execution_count": 365,
   "id": "0314321c",
   "metadata": {},
   "outputs": [
    {
     "data": {
      "text/plain": [
       "280"
      ]
     },
     "execution_count": 365,
     "metadata": {},
     "output_type": "execute_result"
    }
   ],
   "source": [
    "sp = int(dy.shape[0] * .3)\n",
    "sp"
   ]
  },
  {
   "cell_type": "code",
   "execution_count": 366,
   "id": "61634219",
   "metadata": {},
   "outputs": [],
   "source": [
    "vx = dx[:sp]\n",
    "vnx = dnx[:sp]\n",
    "vy = dy[:sp]\n",
    "\n",
    "tx = dx[sp:]\n",
    "tnx = dnx[sp:]\n",
    "ty = dy[sp:]"
   ]
  },
  {
   "cell_type": "code",
   "execution_count": 367,
   "id": "5b00b8fe",
   "metadata": {},
   "outputs": [
    {
     "data": {
      "text/plain": [
       "((656, 2), (280, 2))"
      ]
     },
     "execution_count": 367,
     "metadata": {},
     "output_type": "execute_result"
    }
   ],
   "source": [
    "ty.shape , vy.shape"
   ]
  },
  {
   "cell_type": "code",
   "execution_count": null,
   "id": "a641923f",
   "metadata": {},
   "outputs": [],
   "source": []
  },
  {
   "cell_type": "markdown",
   "id": "e29bb42f",
   "metadata": {},
   "source": [
    "# MODEL"
   ]
  },
  {
   "cell_type": "code",
   "execution_count": 368,
   "id": "fda368b5",
   "metadata": {},
   "outputs": [
    {
     "name": "stdout",
     "output_type": "stream",
     "text": [
      "Model: \"model_11\"\n",
      "__________________________________________________________________________________________________\n",
      " Layer (type)                   Output Shape         Param #     Connected to                     \n",
      "==================================================================================================\n",
      " input_23 (InputLayer)          [(None, 50, 90, 1)]  0           []                               \n",
      "                                                                                                  \n",
      " conv2d_33 (Conv2D)             (None, 48, 88, 8)    80          ['input_23[0][0]']               \n",
      "                                                                                                  \n",
      " max_pooling2d_33 (MaxPooling2D  (None, 24, 44, 8)   0           ['conv2d_33[0][0]']              \n",
      " )                                                                                                \n",
      "                                                                                                  \n",
      " conv2d_34 (Conv2D)             (None, 22, 42, 32)   2336        ['max_pooling2d_33[0][0]']       \n",
      "                                                                                                  \n",
      " max_pooling2d_34 (MaxPooling2D  (None, 11, 21, 32)  0           ['conv2d_34[0][0]']              \n",
      " )                                                                                                \n",
      "                                                                                                  \n",
      " conv2d_35 (Conv2D)             (None, 9, 19, 32)    9248        ['max_pooling2d_34[0][0]']       \n",
      "                                                                                                  \n",
      " max_pooling2d_35 (MaxPooling2D  (None, 4, 9, 32)    0           ['conv2d_35[0][0]']              \n",
      " )                                                                                                \n",
      "                                                                                                  \n",
      " flatten_11 (Flatten)           (None, 1152)         0           ['max_pooling2d_35[0][0]']       \n",
      "                                                                                                  \n",
      " input_24 (InputLayer)          [(None, 3)]          0           []                               \n",
      "                                                                                                  \n",
      " concatenate_11 (Concatenate)   (None, 1155)         0           ['flatten_11[0][0]',             \n",
      "                                                                  'input_24[0][0]']               \n",
      "                                                                                                  \n",
      " dense_33 (Dense)               (None, 32)           36992       ['concatenate_11[0][0]']         \n",
      "                                                                                                  \n",
      " dense_34 (Dense)               (None, 16)           528         ['dense_33[0][0]']               \n",
      "                                                                                                  \n",
      " dense_35 (Dense)               (None, 2)            34          ['dense_34[0][0]']               \n",
      "                                                                                                  \n",
      "==================================================================================================\n",
      "Total params: 49,218\n",
      "Trainable params: 49,218\n",
      "Non-trainable params: 0\n",
      "__________________________________________________________________________________________________\n"
     ]
    }
   ],
   "source": [
    "image_input = layers.Input(shape=(tx.shape[1],tx.shape[2],1))\n",
    "pos_input = layers.Input(shape=(tnx.shape[1],))\n",
    "\n",
    "conv1 = layers.Conv2D(8,(3,3),activation=activations.leaky_relu)(image_input)\n",
    "maxp1 = layers.MaxPooling2D((2,2))(conv1)\n",
    "\n",
    "conv2 = layers.Conv2D(32,(3,3),activation=activations.leaky_relu)(maxp1)\n",
    "maxp2 = layers.MaxPooling2D((2,2))(conv2)\n",
    "\n",
    "conv3 = layers.Conv2D(32,(3,3),activation=activations.leaky_relu)(maxp2)\n",
    "maxp3 = layers.MaxPooling2D((2,2))(conv3)\n",
    "\n",
    "flat = layers.Flatten()(maxp3)\n",
    "\n",
    "concat = layers.Concatenate()([flat,pos_input])\n",
    "\n",
    "dense1 = layers.Dense(32,activation = activations.leaky_relu)(concat)\n",
    "dense2 = layers.Dense(16,activation = activations.leaky_relu)(dense1)\n",
    "output = layers.Dense(2)(dense2)\n",
    "\n",
    "model = Model(inputs = [image_input,pos_input], outputs = output)\n",
    "\n",
    "model.summary()"
   ]
  },
  {
   "cell_type": "code",
   "execution_count": null,
   "id": "95706876",
   "metadata": {},
   "outputs": [],
   "source": []
  },
  {
   "cell_type": "code",
   "execution_count": 369,
   "id": "96e0e3f9",
   "metadata": {},
   "outputs": [],
   "source": [
    "model.compile(loss = losses.mse , optimizer= optimizers.Adam(0.0001), metrics= [\"acc\"])"
   ]
  },
  {
   "cell_type": "code",
   "execution_count": 370,
   "id": "e397483e",
   "metadata": {
    "scrolled": false
   },
   "outputs": [
    {
     "name": "stdout",
     "output_type": "stream",
     "text": [
      "Epoch 1/50\n",
      "41/41 [==============================] - 2s 32ms/step - loss: 0.1515 - acc: 0.5122 - val_loss: 0.0965 - val_acc: 0.4929\n",
      "Epoch 2/50\n",
      "41/41 [==============================] - 1s 28ms/step - loss: 0.1037 - acc: 0.5671 - val_loss: 0.0890 - val_acc: 0.7929\n",
      "Epoch 3/50\n",
      "41/41 [==============================] - 1s 29ms/step - loss: 0.0956 - acc: 0.6387 - val_loss: 0.0814 - val_acc: 0.7143\n",
      "Epoch 4/50\n",
      "41/41 [==============================] - 1s 28ms/step - loss: 0.0889 - acc: 0.6936 - val_loss: 0.0746 - val_acc: 0.8143\n",
      "Epoch 5/50\n",
      "41/41 [==============================] - 1s 29ms/step - loss: 0.0796 - acc: 0.7424 - val_loss: 0.0666 - val_acc: 0.7286\n",
      "Epoch 6/50\n",
      "41/41 [==============================] - 1s 28ms/step - loss: 0.0715 - acc: 0.7561 - val_loss: 0.0592 - val_acc: 0.8107\n",
      "Epoch 7/50\n",
      "41/41 [==============================] - 1s 28ms/step - loss: 0.0614 - acc: 0.7835 - val_loss: 0.0507 - val_acc: 0.8000\n",
      "Epoch 8/50\n",
      "41/41 [==============================] - 1s 28ms/step - loss: 0.0514 - acc: 0.7881 - val_loss: 0.0438 - val_acc: 0.7893\n",
      "Epoch 9/50\n",
      "41/41 [==============================] - 1s 28ms/step - loss: 0.0420 - acc: 0.8125 - val_loss: 0.0348 - val_acc: 0.8357\n",
      "Epoch 10/50\n",
      "41/41 [==============================] - 1s 28ms/step - loss: 0.0348 - acc: 0.8110 - val_loss: 0.0303 - val_acc: 0.8571\n",
      "Epoch 11/50\n",
      "41/41 [==============================] - 1s 29ms/step - loss: 0.0299 - acc: 0.8384 - val_loss: 0.0275 - val_acc: 0.8500\n",
      "Epoch 12/50\n",
      "41/41 [==============================] - 1s 28ms/step - loss: 0.0270 - acc: 0.8415 - val_loss: 0.0262 - val_acc: 0.8536\n",
      "Epoch 13/50\n",
      "41/41 [==============================] - 1s 28ms/step - loss: 0.0245 - acc: 0.8445 - val_loss: 0.0251 - val_acc: 0.8714\n",
      "Epoch 14/50\n",
      "41/41 [==============================] - 1s 28ms/step - loss: 0.0232 - acc: 0.8704 - val_loss: 0.0222 - val_acc: 0.9107\n",
      "Epoch 15/50\n",
      "41/41 [==============================] - 1s 29ms/step - loss: 0.0211 - acc: 0.8735 - val_loss: 0.0213 - val_acc: 0.9071\n",
      "Epoch 16/50\n",
      "41/41 [==============================] - 1s 28ms/step - loss: 0.0204 - acc: 0.8704 - val_loss: 0.0200 - val_acc: 0.9036\n",
      "Epoch 17/50\n",
      "41/41 [==============================] - 1s 28ms/step - loss: 0.0194 - acc: 0.8887 - val_loss: 0.0207 - val_acc: 0.8893\n",
      "Epoch 18/50\n",
      "41/41 [==============================] - 1s 29ms/step - loss: 0.0182 - acc: 0.8887 - val_loss: 0.0189 - val_acc: 0.9107\n",
      "Epoch 19/50\n",
      "41/41 [==============================] - 1s 28ms/step - loss: 0.0175 - acc: 0.8872 - val_loss: 0.0196 - val_acc: 0.8571\n",
      "Epoch 20/50\n",
      "41/41 [==============================] - 1s 28ms/step - loss: 0.0177 - acc: 0.9009 - val_loss: 0.0183 - val_acc: 0.9179\n",
      "Epoch 21/50\n",
      "41/41 [==============================] - 1s 29ms/step - loss: 0.0165 - acc: 0.8963 - val_loss: 0.0173 - val_acc: 0.9321\n",
      "Epoch 22/50\n",
      "41/41 [==============================] - 1s 28ms/step - loss: 0.0163 - acc: 0.9055 - val_loss: 0.0176 - val_acc: 0.9179\n",
      "Epoch 23/50\n",
      "41/41 [==============================] - 1s 28ms/step - loss: 0.0158 - acc: 0.8994 - val_loss: 0.0163 - val_acc: 0.9250\n",
      "Epoch 24/50\n",
      "41/41 [==============================] - 1s 30ms/step - loss: 0.0154 - acc: 0.8994 - val_loss: 0.0164 - val_acc: 0.9286\n",
      "Epoch 25/50\n",
      "41/41 [==============================] - 1s 29ms/step - loss: 0.0153 - acc: 0.8963 - val_loss: 0.0154 - val_acc: 0.9286\n",
      "Epoch 26/50\n",
      "41/41 [==============================] - 1s 29ms/step - loss: 0.0147 - acc: 0.9009 - val_loss: 0.0158 - val_acc: 0.9214\n",
      "Epoch 27/50\n",
      "41/41 [==============================] - 1s 28ms/step - loss: 0.0146 - acc: 0.9131 - val_loss: 0.0152 - val_acc: 0.9321\n",
      "Epoch 28/50\n",
      "41/41 [==============================] - 1s 28ms/step - loss: 0.0140 - acc: 0.9009 - val_loss: 0.0164 - val_acc: 0.9250\n",
      "Epoch 29/50\n",
      "41/41 [==============================] - 1s 29ms/step - loss: 0.0139 - acc: 0.9024 - val_loss: 0.0150 - val_acc: 0.9000\n",
      "Epoch 30/50\n",
      "41/41 [==============================] - 1s 29ms/step - loss: 0.0133 - acc: 0.9101 - val_loss: 0.0139 - val_acc: 0.9357\n",
      "Epoch 31/50\n",
      "41/41 [==============================] - 1s 28ms/step - loss: 0.0131 - acc: 0.9070 - val_loss: 0.0145 - val_acc: 0.9214\n",
      "Epoch 32/50\n",
      "41/41 [==============================] - 1s 29ms/step - loss: 0.0125 - acc: 0.9101 - val_loss: 0.0136 - val_acc: 0.9250\n",
      "Epoch 33/50\n",
      "41/41 [==============================] - 1s 29ms/step - loss: 0.0125 - acc: 0.9253 - val_loss: 0.0145 - val_acc: 0.9250\n",
      "Epoch 34/50\n",
      "41/41 [==============================] - 1s 29ms/step - loss: 0.0120 - acc: 0.9223 - val_loss: 0.0129 - val_acc: 0.9321\n",
      "Epoch 35/50\n",
      "41/41 [==============================] - 1s 29ms/step - loss: 0.0120 - acc: 0.9146 - val_loss: 0.0131 - val_acc: 0.9429\n",
      "Epoch 36/50\n",
      "41/41 [==============================] - 1s 28ms/step - loss: 0.0116 - acc: 0.9223 - val_loss: 0.0126 - val_acc: 0.9429\n",
      "Epoch 37/50\n",
      "41/41 [==============================] - 1s 30ms/step - loss: 0.0112 - acc: 0.9253 - val_loss: 0.0128 - val_acc: 0.9250\n",
      "Epoch 38/50\n",
      "41/41 [==============================] - 1s 29ms/step - loss: 0.0110 - acc: 0.9299 - val_loss: 0.0123 - val_acc: 0.9321\n",
      "Epoch 39/50\n",
      "41/41 [==============================] - 1s 29ms/step - loss: 0.0112 - acc: 0.9360 - val_loss: 0.0128 - val_acc: 0.9429\n",
      "Epoch 40/50\n",
      "41/41 [==============================] - 1s 29ms/step - loss: 0.0107 - acc: 0.9238 - val_loss: 0.0120 - val_acc: 0.9143\n",
      "Epoch 41/50\n",
      "41/41 [==============================] - 1s 28ms/step - loss: 0.0104 - acc: 0.9162 - val_loss: 0.0118 - val_acc: 0.9214\n",
      "Epoch 42/50\n",
      "41/41 [==============================] - 1s 28ms/step - loss: 0.0102 - acc: 0.9238 - val_loss: 0.0124 - val_acc: 0.9393\n",
      "Epoch 43/50\n",
      "41/41 [==============================] - 1s 29ms/step - loss: 0.0100 - acc: 0.9345 - val_loss: 0.0112 - val_acc: 0.9429\n",
      "Epoch 44/50\n",
      "41/41 [==============================] - 1s 28ms/step - loss: 0.0096 - acc: 0.9284 - val_loss: 0.0111 - val_acc: 0.9464\n",
      "Epoch 45/50\n",
      "41/41 [==============================] - 1s 28ms/step - loss: 0.0094 - acc: 0.9375 - val_loss: 0.0125 - val_acc: 0.9393\n",
      "Epoch 46/50\n",
      "41/41 [==============================] - 1s 29ms/step - loss: 0.0098 - acc: 0.9314 - val_loss: 0.0105 - val_acc: 0.9357\n",
      "Epoch 47/50\n",
      "41/41 [==============================] - 1s 29ms/step - loss: 0.0089 - acc: 0.9390 - val_loss: 0.0102 - val_acc: 0.9464\n",
      "Epoch 48/50\n",
      "41/41 [==============================] - 1s 28ms/step - loss: 0.0089 - acc: 0.9299 - val_loss: 0.0115 - val_acc: 0.9393\n",
      "Epoch 49/50\n",
      "41/41 [==============================] - 1s 29ms/step - loss: 0.0094 - acc: 0.9223 - val_loss: 0.0099 - val_acc: 0.9357\n",
      "Epoch 50/50\n",
      "41/41 [==============================] - 1s 28ms/step - loss: 0.0088 - acc: 0.9345 - val_loss: 0.0112 - val_acc: 0.9071\n"
     ]
    }
   ],
   "source": [
    "hist = model.fit([tx,tnx],ty,batch_size=16,epochs=50,validation_data=([vx,vnx],vy),shuffle=True)"
   ]
  },
  {
   "cell_type": "code",
   "execution_count": 371,
   "id": "9c5f566c",
   "metadata": {},
   "outputs": [
    {
     "data": {
      "image/png": "[encoded data removed]",
      "text/plain": [
       "<Figure size 640x480 with 1 Axes>"
      ]
     },
     "metadata": {},
     "output_type": "display_data"
    }
   ],
   "source": [
    "plt.plot(hist.history['loss'])\n",
    "plt.plot(hist.history['val_loss'])\n",
    "plt.show()"
   ]
  },
  {
   "cell_type": "code",
   "execution_count": 372,
   "id": "99891537",
   "metadata": {},
   "outputs": [],
   "source": [
    "i = 0"
   ]
  },
  {
   "cell_type": "code",
   "execution_count": 384,
   "id": "64af42a6",
   "metadata": {},
   "outputs": [
    {
     "name": "stdout",
     "output_type": "stream",
     "text": [
      "1/1 [==============================] - 0s 26ms/step\n",
      "[0.85974646 0.31883517] [0.89970717 0.35807292]\n"
     ]
    },
    {
     "data": {
      "image/png": "[encoded data removed]",
      "text/plain": [
       "<Figure size 640x480 with 1 Axes>"
      ]
     },
     "metadata": {},
     "output_type": "display_data"
    }
   ],
   "source": [
    "print(model.predict([ np.array([vx[i]]), np.array([vnx[i]]) ])[0], vy[i])\n",
    "plt.imshow(vx[i],cmap = \"gray\")\n",
    "i += 1"
   ]
  },
  {
   "cell_type": "code",
   "execution_count": null,
   "id": "7b66748b",
   "metadata": {},
   "outputs": [],
   "source": []
  },
  {
   "cell_type": "code",
   "execution_count": 385,
   "id": "aa1f42ac",
   "metadata": {},
   "outputs": [],
   "source": [
    "pyautogui.FAILSAFE = False"
   ]
  },
  {
   "cell_type": "code",
   "execution_count": 386,
   "id": "1186cb08",
   "metadata": {},
   "outputs": [
    {
     "name": "stdout",
     "output_type": "stream",
     "text": [
      "(0.35588884, 0.020471167) (486, 15) [0.00085737 0.00094264 0.03262264]        \n",
      "done\n"
     ]
    }
   ],
   "source": [
    "cam = cv2.VideoCapture(0)\n",
    "face_mesh = mp.solutions.face_mesh.FaceMesh(refine_landmarks=True)\n",
    "\n",
    "while True:\n",
    "    _, frame = cam.read()\n",
    "    frame = cv2.flip(frame, 1)\n",
    "    rgb_frame = cv2.cvtColor(frame, cv2.COLOR_BGR2RGB)\n",
    "    output = face_mesh.process(rgb_frame)\n",
    "    landmark_points = output.multi_face_landmarks\n",
    "    frame_h, frame_w, _ = frame.shape\n",
    "               \n",
    "    if landmark_points:\n",
    "        \n",
    "#         for landmark in [landmarks[159],landmarks[475]]:\n",
    "#             px = int(landmark.x * frame_w)\n",
    "#             py = int(landmark.y * frame_h)\n",
    "#             cv2.circle(frame, (px, py), 2, (255, 255, 255))\n",
    "        \n",
    "        landmarks = landmark_points[0].landmark\n",
    "        \n",
    "        frame1_crop = frame[int(landmarks[257].y * frame_h):int(landmarks[253].y * frame_h), int(landmarks[362].x * frame_w):int(landmarks[359].x * frame_w)]\n",
    "        frame1_crop = cv2.resize(frame1_crop,(inpimg[0]//2,inpimg[1]//2))\n",
    "        frame1_crop = cv2.cvtColor(frame1_crop, cv2.COLOR_BGR2GRAY)\n",
    "        \n",
    "        frame2_crop = frame[int(landmarks[27].y * frame_h):int(landmarks[23].y * frame_h), int(landmarks[130].x * frame_w):int(landmarks[243].x * frame_w)]\n",
    "        frame2_crop = cv2.resize(frame2_crop,(inpimg[0]//2,inpimg[1]//2))\n",
    "        frame2_crop = cv2.cvtColor(frame2_crop, cv2.COLOR_BGR2GRAY)\n",
    "        \n",
    "        frame_crop = np.vstack((frame1_crop , frame2_crop))\n",
    "        frame_crop = np.hstack((frame_crop, cv2.resize(cv2.cvtColor(frame, cv2.COLOR_BGR2GRAY),(inpimg[0]//2,inpimg[1]))))\n",
    "        \n",
    "        pos = np.array([landmarks[168].x/frame_w,landmarks[168].y/frame_h,landmarks[168].z/-1])\n",
    "        \n",
    "        mx, my = model.predict([np.array([frame_crop/255]), np.array([pos])],verbose=0)[0]\n",
    "        \n",
    "        omx = int(mx * screen_w)\n",
    "        \n",
    "        omy = int(my * screen_h)\n",
    "        \n",
    "        pyautogui.moveTo(omx, omy, duration=0.3)\n",
    "        \n",
    "        print(f\"\\r{mx,my} {omx,omy} {pos}      \", end=\"\")\n",
    "            \n",
    "    cv2.imshow('Eye_Tracker', frame_crop)\n",
    "    \n",
    "    k = cv2.waitKey(1)\n",
    "    \n",
    "    if k == 27:\n",
    "        print(\"\\ndone\")\n",
    "        cv2.destroyAllWindows()\n",
    "        cam.release()\n",
    "        break"
   ]
  },
  {
   "cell_type": "code",
   "execution_count": 387,
   "id": "e3b4dc98",
   "metadata": {},
   "outputs": [],
   "source": [
    "cv2.destroyAllWindows()\n",
    "cam.release()"
   ]
  },
  {
   "cell_type": "code",
   "execution_count": null,
   "id": "4ba3d758",
   "metadata": {},
   "outputs": [],
   "source": []
  },
  {
   "cell_type": "markdown",
   "id": "4f1ae8a6",
   "metadata": {},
   "source": [
    "# SAVE"
   ]
  },
  {
   "cell_type": "code",
   "execution_count": 47,
   "id": "a3431138",
   "metadata": {},
   "outputs": [],
   "source": [
    "path = \"C://cllg//nural networks//eyeTracker//\""
   ]
  },
  {
   "cell_type": "code",
   "execution_count": 48,
   "id": "ae3eaefa",
   "metadata": {},
   "outputs": [],
   "source": [
    "np.save(path+\"x.npy\",x)\n",
    "np.save(path+\"nx.npy\",nx)\n",
    "np.save(path+\"y.npy\",y)"
   ]
  },
  {
   "cell_type": "code",
   "execution_count": 49,
   "id": "b90d375d",
   "metadata": {},
   "outputs": [
    {
     "data": {
      "text/plain": [
       "'2023-10-12_21-51-28'"
      ]
     },
     "execution_count": 49,
     "metadata": {},
     "output_type": "execute_result"
    }
   ],
   "source": [
    "from datetime import datetime\n",
    "\n",
    "current_datetime = str(datetime.now())\n",
    "f\"{current_datetime.split()[0]}_{current_datetime.split()[1][:8].replace(':','-')}\""
   ]
  },
  {
   "cell_type": "code",
   "execution_count": 50,
   "id": "db195412",
   "metadata": {},
   "outputs": [],
   "source": [
    "model.save(path+\"eyeTracker.h5\")\n",
    "model.save(path+f\"models//eyeTracker v{current_datetime.split()[0]}_{current_datetime.split()[1][:8].replace(':','-')}.h5\")"
   ]
  },
  {
   "cell_type": "markdown",
   "id": "4337dd6f",
   "metadata": {},
   "source": [
    "# LOAD"
   ]
  },
  {
   "cell_type": "code",
   "execution_count": 200,
   "id": "d05fba24",
   "metadata": {},
   "outputs": [],
   "source": [
    "model = tf.keras.models.load_model(f\"{path}eyeTracker.h5\")"
   ]
  },
  {
   "cell_type": "code",
   "execution_count": 201,
   "id": "0a114999",
   "metadata": {},
   "outputs": [],
   "source": [
    "x = list(np.load(path+\"x.npy\"))\n",
    "nx = list(np.load(path+\"nx.npy\"))\n",
    "y = list(np.load(path+\"y.npy\"))"
   ]
  },
  {
   "cell_type": "code",
   "execution_count": null,
   "id": "2b9d2229",
   "metadata": {},
   "outputs": [],
   "source": []
  }
 ],
 "metadata": {
  "kernelspec": {
   "display_name": "Python 3 (ipykernel)",
   "language": "python",
   "name": "python3"
  },
  "language_info": {
   "codemirror_mode": {
    "name": "ipython",
    "version": 3
   },
   "file_extension": ".py",
   "mimetype": "text/x-python",
   "name": "python",
   "nbconvert_exporter": "python",
   "pygments_lexer": "ipython3",
   "version": "3.9.5"
  }
 },
 "nbformat": 4,
 "nbformat_minor": 5
}
