{
 "cells": [
  {
   "cell_type": "code",
   "execution_count": 303,
   "id": "32d5d65c",
   "metadata": {},
   "outputs": [],
   "source": [
    "import cv2\n",
    "import mediapipe as mp\n",
    "import pyautogui\n",
    "import numpy as np\n",
    "import matplotlib.pyplot as plt\n",
    "import tensorflow as tf\n",
    "from keras.models import Model\n",
    "import time\n",
    "from keras import Sequential,layers,optimizers,losses,activations\n",
    "import albumentations as A"
   ]
  },
  {
   "cell_type": "code",
   "execution_count": 304,
   "id": "a151c9dc",
   "metadata": {},
   "outputs": [],
   "source": [
    "x = []\n",
    "nx = []\n",
    "y = []"
   ]
  },
  {
   "cell_type": "code",
   "execution_count": 305,
   "id": "188f46ec",
   "metadata": {},
   "outputs": [],
   "source": [
    "screen_w, screen_h = pyautogui.size()\n",
    "\n",
    "inpimg = (90,50)"
   ]
  },
  {
   "cell_type": "code",
   "execution_count": 306,
   "id": "54333740",
   "metadata": {},
   "outputs": [
    {
     "name": "stdout",
     "output_type": "stream",
     "text": [
      "(261, 1237, 117, 0.6074753403663635, 0.3939647674560547, -0.029051896184682846)            \n",
      "done\n"
     ]
    }
   ],
   "source": [
    "mouse_speed = 0.2\n",
    "sleep = 0.4\n",
    "\n",
    "cam = cv2.VideoCapture(0)\n",
    "face_mesh = mp.solutions.face_mesh.FaceMesh(refine_landmarks=True)\n",
    "pyautogui.hotkey('alt', 'tab')\n",
    "\n",
    "while True:\n",
    "\n",
    "    mx = np.random.randint(1,screen_w)\n",
    "    my = np.random.randint(1,screen_h)\n",
    "    \n",
    "    pyautogui.moveTo(mx,my,mouse_speed)\n",
    "    time.sleep(sleep)\n",
    "    \n",
    "    _, frame = cam.read()\n",
    "    frame = cv2.flip(frame, 1)\n",
    "    rgb_frame = cv2.cvtColor(frame, cv2.COLOR_BGR2RGB)\n",
    "    output = face_mesh.process(rgb_frame)\n",
    "    landmark_points = output.multi_face_landmarks\n",
    "    frame_h, frame_w, _ = frame.shape\n",
    "               \n",
    "    if landmark_points:\n",
    "        \n",
    "#         for landmark in [landmarks[159],landmarks[475]]:\n",
    "#             px = int(landmark.x * frame_w)\n",
    "#             py = int(landmark.y * frame_h)\n",
    "#             cv2.circle(frame, (px, py), 2, (255, 255, 255))\n",
    "            \n",
    "            \n",
    "        landmarks = landmark_points[0].landmark\n",
    "        \n",
    "        frame1_crop = frame[int(landmarks[257].y * frame_h):int(landmarks[253].y * frame_h), int(landmarks[362].x * frame_w):int(landmarks[359].x * frame_w)]\n",
    "        frame1_crop = cv2.resize(frame1_crop,(inpimg[0]//2,inpimg[1]//2))\n",
    "        frame1_crop = cv2.cvtColor(frame1_crop, cv2.COLOR_BGR2GRAY)\n",
    "        \n",
    "        frame2_crop = frame[int(landmarks[27].y * frame_h):int(landmarks[23].y * frame_h), int(landmarks[130].x * frame_w):int(landmarks[243].x * frame_w)]\n",
    "        frame2_crop = cv2.resize(frame2_crop,(inpimg[0]//2,inpimg[1]//2))\n",
    "        frame2_crop = cv2.cvtColor(frame2_crop, cv2.COLOR_BGR2GRAY)\n",
    "        \n",
    "        frame_crop = np.vstack((frame1_crop , frame2_crop))\n",
    "        frame_crop = np.hstack((frame_crop, cv2.resize(cv2.cvtColor(frame, cv2.COLOR_BGR2GRAY),(inpimg[0]//2,inpimg[1]))))\n",
    "        \n",
    "#         mx, my = pyautogui.position()\n",
    "        \n",
    "        x.append(frame_crop)\n",
    "        nx.append(np.array([landmarks[168].x,landmarks[168].y,landmarks[168].z]))\n",
    "        y.append(np.array([mx,my]))\n",
    "        \n",
    "        print(f\"\\r{len(x), mx,my , landmarks[168].x,landmarks[168].y,landmarks[168].z}           \", end=\"\")\n",
    "            \n",
    "    cv2.imshow('Eye_Tracker', frame_crop)\n",
    "    k = cv2.waitKey(1)\n",
    "    \n",
    "    if k == 27:\n",
    "        print(\"\\ndone\")\n",
    "        cv2.destroyAllWindows()\n",
    "        cam.release()\n",
    "        pyautogui.hotkey('alt', 'tab')\n",
    "        break"
   ]
  },
  {
   "cell_type": "code",
   "execution_count": null,
   "id": "d58e87e5",
   "metadata": {},
   "outputs": [],
   "source": []
  },
  {
   "cell_type": "code",
   "execution_count": 307,
   "id": "18a4b864",
   "metadata": {},
   "outputs": [],
   "source": [
    "cv2.destroyAllWindows()\n",
    "cam.release()"
   ]
  },
  {
   "cell_type": "code",
   "execution_count": 308,
   "id": "ad2868f0",
   "metadata": {},
   "outputs": [],
   "source": [
    "# x = x[:-10]\n",
    "# y = y[:-10]\n",
    "# nx = nx[:-10]"
   ]
  },
  {
   "cell_type": "code",
   "execution_count": 309,
   "id": "e67f48ef",
   "metadata": {},
   "outputs": [],
   "source": [
    "i = 0"
   ]
  },
  {
   "cell_type": "code",
   "execution_count": 310,
   "id": "ddcebc5f",
   "metadata": {},
   "outputs": [
    {
     "name": "stdout",
     "output_type": "stream",
     "text": [
      "0 [ 0.50623393  0.43148503 -0.02759315] [667 241]\n"
     ]
    },
    {
     "data": {
      "image/png": "[encoded data removed]",
      "text/plain": [
       "<Figure size 640x480 with 1 Axes>"
      ]
     },
     "metadata": {},
     "output_type": "display_data"
    }
   ],
   "source": [
    "plt.imshow(x[i],cmap=\"gray\")\n",
    "print(i,nx[i],y[i])\n",
    "i+=50"
   ]
  },
  {
   "cell_type": "code",
   "execution_count": 311,
   "id": "225b00cf",
   "metadata": {},
   "outputs": [],
   "source": [
    "dx = np.array(x)\n",
    "dnx = np.array(nx)\n",
    "dy = np.array(y)"
   ]
  },
  {
   "cell_type": "code",
   "execution_count": 312,
   "id": "930631b6",
   "metadata": {},
   "outputs": [],
   "source": [
    "def random_brightness_contrast(image, alpha_range=(0.5, 1.5), beta_range=(-50, 50)):\n",
    "    alpha = np.random.uniform(alpha_range[0], alpha_range[1])\n",
    "    beta = np.random.uniform(beta_range[0], beta_range[1])\n",
    "    adjusted_image = cv2.convertScaleAbs(image, alpha=alpha, beta=beta)\n",
    "    return adjusted_image"
   ]
  },
  {
   "cell_type": "code",
   "execution_count": 313,
   "id": "ac09ee02",
   "metadata": {},
   "outputs": [
    {
     "name": "stdout",
     "output_type": "stream",
     "text": [
      "260           "
     ]
    }
   ],
   "source": [
    "for curr,i in enumerate(dx):\n",
    "    print(f\"\\r{curr}           \",end=\"\")\n",
    "    for j in range(5):\n",
    "        dx = np.append(dx,[random_brightness_contrast(i)],axis=0)\n",
    "        dnx = np.append(dnx,[dnx[curr]],axis=0)\n",
    "        dy = np.append(dy,[dy[curr]],axis=0)"
   ]
  },
  {
   "cell_type": "code",
   "execution_count": 314,
   "id": "eb3482d2",
   "metadata": {},
   "outputs": [
    {
     "data": {
      "text/plain": [
       "((1566, 50, 90), (1566, 2))"
      ]
     },
     "execution_count": 314,
     "metadata": {},
     "output_type": "execute_result"
    }
   ],
   "source": [
    "dx.shape,dy.shape"
   ]
  },
  {
   "cell_type": "code",
   "execution_count": 315,
   "id": "5c5d2311",
   "metadata": {},
   "outputs": [],
   "source": [
    "dy = (dy/[screen_w, screen_h])\n",
    "dnx = (dnx/[frame_w,frame_h,-1])\n",
    "dx = dx/255"
   ]
  },
  {
   "cell_type": "code",
   "execution_count": null,
   "id": "9b604b0b",
   "metadata": {},
   "outputs": [],
   "source": []
  },
  {
   "cell_type": "code",
   "execution_count": 316,
   "id": "c1634b03",
   "metadata": {},
   "outputs": [],
   "source": [
    "p = np.random.permutation(dy.shape[0])\n",
    "dx = dx[p]\n",
    "dnx = dnx[p]\n",
    "dy = dy[p]"
   ]
  },
  {
   "cell_type": "code",
   "execution_count": 317,
   "id": "0314321c",
   "metadata": {},
   "outputs": [
    {
     "data": {
      "text/plain": [
       "469"
      ]
     },
     "execution_count": 317,
     "metadata": {},
     "output_type": "execute_result"
    }
   ],
   "source": [
    "sp = int(dy.shape[0] * .3)\n",
    "sp"
   ]
  },
  {
   "cell_type": "code",
   "execution_count": 318,
   "id": "61634219",
   "metadata": {},
   "outputs": [],
   "source": [
    "vx = dx[:sp]\n",
    "vnx = dnx[:sp]\n",
    "vy = dy[:sp]\n",
    "\n",
    "tx = dx[sp:]\n",
    "tnx = dnx[sp:]\n",
    "ty = dy[sp:]"
   ]
  },
  {
   "cell_type": "code",
   "execution_count": 319,
   "id": "5b00b8fe",
   "metadata": {},
   "outputs": [
    {
     "data": {
      "text/plain": [
       "((1097, 2), (469, 2))"
      ]
     },
     "execution_count": 319,
     "metadata": {},
     "output_type": "execute_result"
    }
   ],
   "source": [
    "ty.shape , vy.shape"
   ]
  },
  {
   "cell_type": "code",
   "execution_count": null,
   "id": "a641923f",
   "metadata": {},
   "outputs": [],
   "source": []
  },
  {
   "cell_type": "markdown",
   "id": "e29bb42f",
   "metadata": {},
   "source": [
    "# MODEL"
   ]
  },
  {
   "cell_type": "code",
   "execution_count": 320,
   "id": "6760c1cd",
   "metadata": {},
   "outputs": [],
   "source": [
    "# model = Sequential()\n",
    "\n",
    "# model.add(layers.Conv2D(16,(3,3),activation=activations.leaky_relu, input_shape = (tx.shape[1],tx.shape[2],1)))\n",
    "# model.add(layers.MaxPooling2D((2,2)))\n",
    "\n",
    "# model.add(layers.Conv2D(64,(3,3),activation=activations.leaky_relu))\n",
    "# model.add(layers.MaxPooling2D((2,2)))\n",
    "\n",
    "# model.add(layers.Conv2D(64,(3,3),activation=activations.leaky_relu))\n",
    "# model.add(layers.MaxPooling2D((2,2)))\n",
    "\n",
    "# model.add(layers.Flatten())\n",
    "\n",
    "# model.add(layers.Dense(32,activation = activations.leaky_relu))\n",
    "# model.add(layers.Dense(16,activation = activations.leaky_relu))\n",
    "# model.add(layers.Dense(2))\n",
    "\n",
    "# model.summary()"
   ]
  },
  {
   "cell_type": "code",
   "execution_count": 321,
   "id": "fda368b5",
   "metadata": {},
   "outputs": [
    {
     "name": "stdout",
     "output_type": "stream",
     "text": [
      "Model: \"model_9\"\n",
      "__________________________________________________________________________________________________\n",
      " Layer (type)                   Output Shape         Param #     Connected to                     \n",
      "==================================================================================================\n",
      " input_19 (InputLayer)          [(None, 50, 90, 1)]  0           []                               \n",
      "                                                                                                  \n",
      " conv2d_27 (Conv2D)             (None, 48, 88, 8)    80          ['input_19[0][0]']               \n",
      "                                                                                                  \n",
      " max_pooling2d_27 (MaxPooling2D  (None, 24, 44, 8)   0           ['conv2d_27[0][0]']              \n",
      " )                                                                                                \n",
      "                                                                                                  \n",
      " conv2d_28 (Conv2D)             (None, 22, 42, 32)   2336        ['max_pooling2d_27[0][0]']       \n",
      "                                                                                                  \n",
      " max_pooling2d_28 (MaxPooling2D  (None, 11, 21, 32)  0           ['conv2d_28[0][0]']              \n",
      " )                                                                                                \n",
      "                                                                                                  \n",
      " conv2d_29 (Conv2D)             (None, 9, 19, 32)    9248        ['max_pooling2d_28[0][0]']       \n",
      "                                                                                                  \n",
      " max_pooling2d_29 (MaxPooling2D  (None, 4, 9, 32)    0           ['conv2d_29[0][0]']              \n",
      " )                                                                                                \n",
      "                                                                                                  \n",
      " flatten_9 (Flatten)            (None, 1152)         0           ['max_pooling2d_29[0][0]']       \n",
      "                                                                                                  \n",
      " input_20 (InputLayer)          [(None, 3)]          0           []                               \n",
      "                                                                                                  \n",
      " concatenate_9 (Concatenate)    (None, 1155)         0           ['flatten_9[0][0]',              \n",
      "                                                                  'input_20[0][0]']               \n",
      "                                                                                                  \n",
      " dense_27 (Dense)               (None, 32)           36992       ['concatenate_9[0][0]']          \n",
      "                                                                                                  \n",
      " dense_28 (Dense)               (None, 16)           528         ['dense_27[0][0]']               \n",
      "                                                                                                  \n",
      " dense_29 (Dense)               (None, 2)            34          ['dense_28[0][0]']               \n",
      "                                                                                                  \n",
      "==================================================================================================\n",
      "Total params: 49,218\n",
      "Trainable params: 49,218\n",
      "Non-trainable params: 0\n",
      "__________________________________________________________________________________________________\n"
     ]
    }
   ],
   "source": [
    "image_input = layers.Input(shape=(tx.shape[1],tx.shape[2],1))\n",
    "pos_input = layers.Input(shape=(tnx.shape[1],))\n",
    "\n",
    "conv1 = layers.Conv2D(8,(3,3),activation=activations.leaky_relu)(image_input)\n",
    "maxp1 = layers.MaxPooling2D((2,2))(conv1)\n",
    "\n",
    "conv2 = layers.Conv2D(32,(3,3),activation=activations.leaky_relu)(maxp1)\n",
    "maxp2 = layers.MaxPooling2D((2,2))(conv2)\n",
    "\n",
    "conv3 = layers.Conv2D(32,(3,3),activation=activations.leaky_relu)(maxp2)\n",
    "maxp3 = layers.MaxPooling2D((2,2))(conv3)\n",
    "\n",
    "flat = layers.Flatten()(maxp3)\n",
    "\n",
    "concat = layers.Concatenate()([flat,pos_input])\n",
    "\n",
    "dense1 = layers.Dense(32,activation = activations.leaky_relu)(concat)\n",
    "dense2 = layers.Dense(16,activation = activations.leaky_relu)(dense1)\n",
    "output = layers.Dense(2)(dense2)\n",
    "\n",
    "model = Model(inputs = [image_input,pos_input], outputs = output)\n",
    "\n",
    "model.summary()"
   ]
  },
  {
   "cell_type": "code",
   "execution_count": null,
   "id": "95706876",
   "metadata": {},
   "outputs": [],
   "source": []
  },
  {
   "cell_type": "code",
   "execution_count": 322,
   "id": "96e0e3f9",
   "metadata": {},
   "outputs": [],
   "source": [
    "model.compile(loss = losses.mse , optimizer= optimizers.Adam(0.0001), metrics= [\"acc\"])"
   ]
  },
  {
   "cell_type": "code",
   "execution_count": 323,
   "id": "e397483e",
   "metadata": {},
   "outputs": [
    {
     "name": "stdout",
     "output_type": "stream",
     "text": [
      "Epoch 1/50\n",
      "69/69 [==============================] - 3s 30ms/step - loss: 0.1217 - acc: 0.5378 - val_loss: 0.1036 - val_acc: 0.4712\n",
      "Epoch 2/50\n",
      "69/69 [==============================] - 2s 28ms/step - loss: 0.0956 - acc: 0.5150 - val_loss: 0.0955 - val_acc: 0.5373\n",
      "Epoch 3/50\n",
      "69/69 [==============================] - 2s 28ms/step - loss: 0.0879 - acc: 0.5825 - val_loss: 0.0871 - val_acc: 0.5160\n",
      "Epoch 4/50\n",
      "69/69 [==============================] - 2s 28ms/step - loss: 0.0786 - acc: 0.6281 - val_loss: 0.0716 - val_acc: 0.6546\n",
      "Epoch 5/50\n",
      "69/69 [==============================] - 2s 28ms/step - loss: 0.0614 - acc: 0.6964 - val_loss: 0.0678 - val_acc: 0.7783\n",
      "Epoch 6/50\n",
      "69/69 [==============================] - 2s 28ms/step - loss: 0.0443 - acc: 0.7803 - val_loss: 0.0385 - val_acc: 0.7228\n",
      "Epoch 7/50\n",
      "69/69 [==============================] - 2s 28ms/step - loss: 0.0305 - acc: 0.8186 - val_loss: 0.0296 - val_acc: 0.7207\n",
      "Epoch 8/50\n",
      "69/69 [==============================] - 2s 28ms/step - loss: 0.0250 - acc: 0.8186 - val_loss: 0.0235 - val_acc: 0.8294\n",
      "Epoch 9/50\n",
      "69/69 [==============================] - 2s 27ms/step - loss: 0.0219 - acc: 0.8396 - val_loss: 0.0223 - val_acc: 0.8038\n",
      "Epoch 10/50\n",
      "69/69 [==============================] - 2s 27ms/step - loss: 0.0202 - acc: 0.8505 - val_loss: 0.0229 - val_acc: 0.8294\n",
      "Epoch 11/50\n",
      "69/69 [==============================] - 2s 28ms/step - loss: 0.0199 - acc: 0.8505 - val_loss: 0.0199 - val_acc: 0.8358\n",
      "Epoch 12/50\n",
      "69/69 [==============================] - 2s 28ms/step - loss: 0.0181 - acc: 0.8651 - val_loss: 0.0185 - val_acc: 0.8486\n",
      "Epoch 13/50\n",
      "69/69 [==============================] - 2s 28ms/step - loss: 0.0176 - acc: 0.8596 - val_loss: 0.0187 - val_acc: 0.8465\n",
      "Epoch 14/50\n",
      "69/69 [==============================] - 2s 28ms/step - loss: 0.0176 - acc: 0.8651 - val_loss: 0.0174 - val_acc: 0.8593\n",
      "Epoch 15/50\n",
      "69/69 [==============================] - 2s 28ms/step - loss: 0.0162 - acc: 0.8660 - val_loss: 0.0175 - val_acc: 0.8422\n",
      "Epoch 16/50\n",
      "69/69 [==============================] - 2s 28ms/step - loss: 0.0164 - acc: 0.8742 - val_loss: 0.0172 - val_acc: 0.8593\n",
      "Epoch 17/50\n",
      "69/69 [==============================] - 2s 28ms/step - loss: 0.0155 - acc: 0.8778 - val_loss: 0.0171 - val_acc: 0.8593\n",
      "Epoch 18/50\n",
      "69/69 [==============================] - 2s 29ms/step - loss: 0.0153 - acc: 0.8824 - val_loss: 0.0163 - val_acc: 0.8635\n",
      "Epoch 19/50\n",
      "69/69 [==============================] - 2s 29ms/step - loss: 0.0147 - acc: 0.8842 - val_loss: 0.0176 - val_acc: 0.8699\n",
      "Epoch 20/50\n",
      "69/69 [==============================] - 2s 30ms/step - loss: 0.0145 - acc: 0.8778 - val_loss: 0.0164 - val_acc: 0.8486\n",
      "Epoch 21/50\n",
      "69/69 [==============================] - 2s 30ms/step - loss: 0.0141 - acc: 0.8696 - val_loss: 0.0149 - val_acc: 0.8721\n",
      "Epoch 22/50\n",
      "69/69 [==============================] - 2s 30ms/step - loss: 0.0132 - acc: 0.8888 - val_loss: 0.0149 - val_acc: 0.8635\n",
      "Epoch 23/50\n",
      "69/69 [==============================] - 2s 31ms/step - loss: 0.0131 - acc: 0.8833 - val_loss: 0.0148 - val_acc: 0.8763\n",
      "Epoch 24/50\n",
      "69/69 [==============================] - 2s 30ms/step - loss: 0.0128 - acc: 0.8915 - val_loss: 0.0153 - val_acc: 0.8806\n",
      "Epoch 25/50\n",
      "69/69 [==============================] - 2s 31ms/step - loss: 0.0126 - acc: 0.8961 - val_loss: 0.0151 - val_acc: 0.8785\n",
      "Epoch 26/50\n",
      "69/69 [==============================] - 2s 30ms/step - loss: 0.0123 - acc: 0.8915 - val_loss: 0.0134 - val_acc: 0.8849\n",
      "Epoch 27/50\n",
      "69/69 [==============================] - 2s 30ms/step - loss: 0.0122 - acc: 0.8952 - val_loss: 0.0171 - val_acc: 0.8849\n",
      "Epoch 28/50\n",
      "69/69 [==============================] - 2s 31ms/step - loss: 0.0117 - acc: 0.8979 - val_loss: 0.0133 - val_acc: 0.8891\n",
      "Epoch 29/50\n",
      "69/69 [==============================] - 2s 31ms/step - loss: 0.0117 - acc: 0.8979 - val_loss: 0.0136 - val_acc: 0.8827\n",
      "Epoch 30/50\n",
      "69/69 [==============================] - 2s 31ms/step - loss: 0.0112 - acc: 0.8943 - val_loss: 0.0131 - val_acc: 0.8913\n",
      "Epoch 31/50\n",
      "69/69 [==============================] - 2s 30ms/step - loss: 0.0110 - acc: 0.9061 - val_loss: 0.0132 - val_acc: 0.8721\n",
      "Epoch 32/50\n",
      "69/69 [==============================] - 2s 31ms/step - loss: 0.0110 - acc: 0.9070 - val_loss: 0.0135 - val_acc: 0.8529\n",
      "Epoch 33/50\n",
      "69/69 [==============================] - 2s 31ms/step - loss: 0.0107 - acc: 0.8988 - val_loss: 0.0121 - val_acc: 0.8913\n",
      "Epoch 34/50\n",
      "69/69 [==============================] - 2s 35ms/step - loss: 0.0101 - acc: 0.8979 - val_loss: 0.0119 - val_acc: 0.9041\n",
      "Epoch 35/50\n",
      "69/69 [==============================] - 2s 33ms/step - loss: 0.0102 - acc: 0.9088 - val_loss: 0.0113 - val_acc: 0.9147\n",
      "Epoch 36/50\n",
      "69/69 [==============================] - 2s 33ms/step - loss: 0.0094 - acc: 0.9088 - val_loss: 0.0110 - val_acc: 0.9104\n",
      "Epoch 37/50\n",
      "69/69 [==============================] - 2s 33ms/step - loss: 0.0094 - acc: 0.8943 - val_loss: 0.0114 - val_acc: 0.9019\n",
      "Epoch 38/50\n",
      "69/69 [==============================] - 2s 33ms/step - loss: 0.0092 - acc: 0.9061 - val_loss: 0.0107 - val_acc: 0.9062\n",
      "Epoch 39/50\n",
      "69/69 [==============================] - 2s 34ms/step - loss: 0.0091 - acc: 0.9088 - val_loss: 0.0102 - val_acc: 0.9083\n",
      "Epoch 40/50\n",
      "69/69 [==============================] - 2s 33ms/step - loss: 0.0084 - acc: 0.9107 - val_loss: 0.0101 - val_acc: 0.9041\n",
      "Epoch 41/50\n",
      "69/69 [==============================] - 2s 31ms/step - loss: 0.0083 - acc: 0.9234 - val_loss: 0.0102 - val_acc: 0.9041\n",
      "Epoch 42/50\n",
      "69/69 [==============================] - 2s 31ms/step - loss: 0.0079 - acc: 0.9180 - val_loss: 0.0107 - val_acc: 0.8891\n",
      "Epoch 43/50\n",
      "69/69 [==============================] - 2s 32ms/step - loss: 0.0079 - acc: 0.9170 - val_loss: 0.0094 - val_acc: 0.9019\n",
      "Epoch 44/50\n",
      "69/69 [==============================] - 2s 31ms/step - loss: 0.0073 - acc: 0.9207 - val_loss: 0.0091 - val_acc: 0.9083\n",
      "Epoch 45/50\n",
      "69/69 [==============================] - 2s 30ms/step - loss: 0.0075 - acc: 0.9107 - val_loss: 0.0094 - val_acc: 0.9104\n",
      "Epoch 46/50\n",
      "69/69 [==============================] - 2s 31ms/step - loss: 0.0069 - acc: 0.9207 - val_loss: 0.0092 - val_acc: 0.8955\n",
      "Epoch 47/50\n",
      "69/69 [==============================] - 2s 31ms/step - loss: 0.0067 - acc: 0.9207 - val_loss: 0.0091 - val_acc: 0.9104\n",
      "Epoch 48/50\n",
      "69/69 [==============================] - 2s 32ms/step - loss: 0.0072 - acc: 0.9234 - val_loss: 0.0084 - val_acc: 0.9126\n",
      "Epoch 49/50\n",
      "69/69 [==============================] - 2s 32ms/step - loss: 0.0064 - acc: 0.9198 - val_loss: 0.0082 - val_acc: 0.9190\n",
      "Epoch 50/50\n",
      "69/69 [==============================] - 2s 33ms/step - loss: 0.0060 - acc: 0.9271 - val_loss: 0.0080 - val_acc: 0.9083\n"
     ]
    },
    {
     "data": {
      "text/plain": [
       "<keras.callbacks.History at 0x1c81f603820>"
      ]
     },
     "execution_count": 323,
     "metadata": {},
     "output_type": "execute_result"
    }
   ],
   "source": [
    "model.fit([tx,tnx],ty,batch_size=16,epochs=50,validation_data=([vx,vnx],vy),shuffle=True)"
   ]
  },
  {
   "cell_type": "code",
   "execution_count": 327,
   "id": "99891537",
   "metadata": {},
   "outputs": [],
   "source": [
    "i = 0"
   ]
  },
  {
   "cell_type": "code",
   "execution_count": 328,
   "id": "64af42a6",
   "metadata": {},
   "outputs": [
    {
     "name": "stdout",
     "output_type": "stream",
     "text": [
      "1/1 [==============================] - 0s 27ms/step\n",
      "[0.08831374 0.33915132] [0.15519766 0.37760417]\n"
     ]
    },
    {
     "data": {
      "image/png": "[encoded data removed]",
      "text/plain": [
       "<Figure size 640x480 with 1 Axes>"
      ]
     },
     "metadata": {},
     "output_type": "display_data"
    }
   ],
   "source": [
    "print(model.predict([ np.array([vx[i]]), np.array([vnx[i]]) ])[0], vy[i])\n",
    "plt.imshow(vx[i],cmap = \"gray\")\n",
    "i += 1"
   ]
  },
  {
   "cell_type": "code",
   "execution_count": null,
   "id": "7b66748b",
   "metadata": {},
   "outputs": [],
   "source": []
  },
  {
   "cell_type": "code",
   "execution_count": 329,
   "id": "aa1f42ac",
   "metadata": {},
   "outputs": [],
   "source": [
    "pyautogui.FAILSAFE = False"
   ]
  },
  {
   "cell_type": "code",
   "execution_count": 330,
   "id": "1186cb08",
   "metadata": {},
   "outputs": [
    {
     "name": "stdout",
     "output_type": "stream",
     "text": [
      "(0.1942157, 0.22820003) (265, 175) [0.00079698 0.00084279 0.02036038]         \n",
      "done\n"
     ]
    }
   ],
   "source": [
    "cam = cv2.VideoCapture(0)\n",
    "face_mesh = mp.solutions.face_mesh.FaceMesh(refine_landmarks=True)\n",
    "\n",
    "while True:\n",
    "    _, frame = cam.read()\n",
    "    frame = cv2.flip(frame, 1)\n",
    "    rgb_frame = cv2.cvtColor(frame, cv2.COLOR_BGR2RGB)\n",
    "    output = face_mesh.process(rgb_frame)\n",
    "    landmark_points = output.multi_face_landmarks\n",
    "    frame_h, frame_w, _ = frame.shape\n",
    "               \n",
    "    if landmark_points:\n",
    "        \n",
    "#         for landmark in [landmarks[159],landmarks[475]]:\n",
    "#             px = int(landmark.x * frame_w)\n",
    "#             py = int(landmark.y * frame_h)\n",
    "#             cv2.circle(frame, (px, py), 2, (255, 255, 255))\n",
    "        \n",
    "        landmarks = landmark_points[0].landmark\n",
    "        \n",
    "        frame1_crop = frame[int(landmarks[257].y * frame_h):int(landmarks[253].y * frame_h), int(landmarks[362].x * frame_w):int(landmarks[359].x * frame_w)]\n",
    "        frame1_crop = cv2.resize(frame1_crop,(inpimg[0]//2,inpimg[1]//2))\n",
    "        frame1_crop = cv2.cvtColor(frame1_crop, cv2.COLOR_BGR2GRAY)\n",
    "        \n",
    "        frame2_crop = frame[int(landmarks[27].y * frame_h):int(landmarks[23].y * frame_h), int(landmarks[130].x * frame_w):int(landmarks[243].x * frame_w)]\n",
    "        frame2_crop = cv2.resize(frame2_crop,(inpimg[0]//2,inpimg[1]//2))\n",
    "        frame2_crop = cv2.cvtColor(frame2_crop, cv2.COLOR_BGR2GRAY)\n",
    "        \n",
    "        frame_crop = np.vstack((frame1_crop , frame2_crop))\n",
    "        frame_crop = np.hstack((frame_crop, cv2.resize(cv2.cvtColor(frame, cv2.COLOR_BGR2GRAY),(inpimg[0]//2,inpimg[1]))))\n",
    "        \n",
    "        pos = np.array([landmarks[168].x/frame_w,landmarks[168].y/frame_h,landmarks[168].z/-1])\n",
    "        \n",
    "        mx, my = model.predict([np.array([frame_crop/255]), np.array([pos])],verbose=0)[0]\n",
    "        \n",
    "        omx = int(mx * screen_w)\n",
    "        \n",
    "        omy = int(my * screen_h)\n",
    "        \n",
    "        pyautogui.moveTo(omx, omy, duration=0.3)\n",
    "        \n",
    "        print(f\"\\r{mx,my} {omx,omy} {pos}      \", end=\"\")\n",
    "            \n",
    "    cv2.imshow('Eye_Tracker', frame_crop)\n",
    "    \n",
    "    k = cv2.waitKey(1)\n",
    "    \n",
    "    if k == 27:\n",
    "        print(\"\\ndone\")\n",
    "        cv2.destroyAllWindows()\n",
    "        cam.release()\n",
    "        break"
   ]
  },
  {
   "cell_type": "code",
   "execution_count": 46,
   "id": "e3b4dc98",
   "metadata": {},
   "outputs": [],
   "source": [
    "cv2.destroyAllWindows()\n",
    "cam.release()"
   ]
  },
  {
   "cell_type": "code",
   "execution_count": null,
   "id": "4ba3d758",
   "metadata": {},
   "outputs": [],
   "source": []
  },
  {
   "cell_type": "markdown",
   "id": "4f1ae8a6",
   "metadata": {},
   "source": [
    "# SAVE"
   ]
  },
  {
   "cell_type": "code",
   "execution_count": 47,
   "id": "a3431138",
   "metadata": {},
   "outputs": [],
   "source": [
    "path = \"C://cllg//nural networks//eyeTracker//\""
   ]
  },
  {
   "cell_type": "code",
   "execution_count": 48,
   "id": "ae3eaefa",
   "metadata": {},
   "outputs": [],
   "source": [
    "np.save(path+\"x.npy\",x)\n",
    "np.save(path+\"nx.npy\",nx)\n",
    "np.save(path+\"y.npy\",y)"
   ]
  },
  {
   "cell_type": "code",
   "execution_count": 49,
   "id": "b90d375d",
   "metadata": {},
   "outputs": [
    {
     "data": {
      "text/plain": [
       "'2023-10-12_21-51-28'"
      ]
     },
     "execution_count": 49,
     "metadata": {},
     "output_type": "execute_result"
    }
   ],
   "source": [
    "from datetime import datetime\n",
    "\n",
    "current_datetime = str(datetime.now())\n",
    "f\"{current_datetime.split()[0]}_{current_datetime.split()[1][:8].replace(':','-')}\""
   ]
  },
  {
   "cell_type": "code",
   "execution_count": 50,
   "id": "db195412",
   "metadata": {},
   "outputs": [],
   "source": [
    "model.save(path+\"eyeTracker.h5\")\n",
    "model.save(path+f\"models//eyeTracker v{current_datetime.split()[0]}_{current_datetime.split()[1][:8].replace(':','-')}.h5\")"
   ]
  },
  {
   "cell_type": "markdown",
   "id": "4337dd6f",
   "metadata": {},
   "source": [
    "# LOAD"
   ]
  },
  {
   "cell_type": "code",
   "execution_count": 200,
   "id": "d05fba24",
   "metadata": {},
   "outputs": [],
   "source": [
    "model = tf.keras.models.load_model(f\"{path}eyeTracker.h5\")"
   ]
  },
  {
   "cell_type": "code",
   "execution_count": 201,
   "id": "0a114999",
   "metadata": {},
   "outputs": [],
   "source": [
    "x = list(np.load(path+\"x.npy\"))\n",
    "nx = list(np.load(path+\"nx.npy\"))\n",
    "y = list(np.load(path+\"y.npy\"))"
   ]
  },
  {
   "cell_type": "code",
   "execution_count": null,
   "id": "bbe91817",
   "metadata": {},
   "outputs": [],
   "source": []
  },
  {
   "cell_type": "code",
   "execution_count": null,
   "id": "0765a48e",
   "metadata": {},
   "outputs": [],
   "source": []
  },
  {
   "cell_type": "code",
   "execution_count": null,
   "id": "2b9d2229",
   "metadata": {},
   "outputs": [],
   "source": []
  }
 ],
 "metadata": {
  "kernelspec": {
   "display_name": "Python 3 (ipykernel)",
   "language": "python",
   "name": "python3"
  },
  "language_info": {
   "codemirror_mode": {
    "name": "ipython",
    "version": 3
   },
   "file_extension": ".py",
   "mimetype": "text/x-python",
   "name": "python",
   "nbconvert_exporter": "python",
   "pygments_lexer": "ipython3",
   "version": "3.9.5"
  }
 },
 "nbformat": 4,
 "nbformat_minor": 5
}
